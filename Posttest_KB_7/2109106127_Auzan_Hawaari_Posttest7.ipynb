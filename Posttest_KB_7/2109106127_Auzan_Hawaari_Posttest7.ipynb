{
  "nbformat": 4,
  "nbformat_minor": 0,
  "metadata": {
    "colab": {
      "provenance": [],
      "gpuType": "T4"
    },
    "kernelspec": {
      "name": "python3",
      "display_name": "Python 3"
    },
    "language_info": {
      "name": "python"
    },
    "accelerator": "GPU"
  },
  "cells": [
    {
      "cell_type": "markdown",
      "source": [
        "Link Dataset : https://www.kaggle.com/datasets/masarief/rokok-sampoerna-splash\n"
      ],
      "metadata": {
        "id": "z84U0ssQGzIu"
      }
    },
    {
      "cell_type": "code",
      "source": [
        "!mkdir -p ~/.kaggle\n",
        "!cp kaggle.json ~/.kaggle/"
      ],
      "metadata": {
        "id": "ZwnUTDbHG8er"
      },
      "execution_count": 57,
      "outputs": []
    },
    {
      "cell_type": "code",
      "source": [
        "!kaggle datasets download -d masarief/rokok-sampoerna-splash"
      ],
      "metadata": {
        "colab": {
          "base_uri": "https://localhost:8080/"
        },
        "id": "d64xccQjHDc5",
        "outputId": "798ee372-9496-4230-e482-537ef7dbb74a"
      },
      "execution_count": 58,
      "outputs": [
        {
          "output_type": "stream",
          "name": "stdout",
          "text": [
            "Warning: Your Kaggle API key is readable by other users on this system! To fix this, you can run 'chmod 600 /root/.kaggle/kaggle.json'\n",
            "Downloading rokok-sampoerna-splash.zip to /content\n",
            " 99% 49.0M/49.7M [00:03<00:00, 24.0MB/s]\n",
            "100% 49.7M/49.7M [00:03<00:00, 15.7MB/s]\n"
          ]
        }
      ]
    },
    {
      "cell_type": "code",
      "source": [
        "!unzip rokok-sampoerna-splash.zip -d dataset_directory"
      ],
      "metadata": {
        "colab": {
          "base_uri": "https://localhost:8080/"
        },
        "id": "u3LiObGSHbgk",
        "outputId": "18ad92b3-4405-4f6c-dd9c-2d5e1d1d28f3"
      },
      "execution_count": 59,
      "outputs": [
        {
          "output_type": "stream",
          "name": "stdout",
          "text": [
            "Archive:  rokok-sampoerna-splash.zip\n",
            "replace dataset_directory/spring/spring (1).jpg? [y]es, [n]o, [A]ll, [N]one, [r]ename: "
          ]
        }
      ]
    },
    {
      "cell_type": "code",
      "source": [
        "!unzip rokok-sampoerna-splash.zip -d rokok_dataset"
      ],
      "metadata": {
        "colab": {
          "base_uri": "https://localhost:8080/"
        },
        "id": "J23gP8P5JblD",
        "outputId": "49ce662c-0a51-46c0-a906-3463180d018e"
      },
      "execution_count": 35,
      "outputs": [
        {
          "output_type": "stream",
          "name": "stdout",
          "text": [
            "Archive:  rokok-sampoerna-splash.zip\n",
            "replace rokok_dataset/spring/spring (1).jpg? [y]es, [n]o, [A]ll, [N]one, [r]ename: "
          ]
        }
      ]
    },
    {
      "cell_type": "code",
      "source": [
        "import tensorflow as tf\n",
        "from tensorflow.keras.preprocessing.image import ImageDataGenerator\n",
        "from tensorflow.keras.models import Sequential\n",
        "from tensorflow.keras.layers import Conv2D, MaxPooling2D, Flatten, Dense\n",
        "from tensorflow.keras.applications import VGG16\n",
        "from tensorflow.keras.optimizers import Adam\n",
        "from tensorflow.keras.callbacks import EarlyStopping, ReduceLROnPlateau\n",
        "import matplotlib.pyplot as plt"
      ],
      "metadata": {
        "id": "3SVEOhC9J5DK"
      },
      "execution_count": 60,
      "outputs": []
    },
    {
      "cell_type": "code",
      "source": [
        "path = '/content/rokok_dataset'"
      ],
      "metadata": {
        "id": "42shh1VzKAV1"
      },
      "execution_count": 61,
      "outputs": []
    },
    {
      "cell_type": "code",
      "source": [
        "import os"
      ],
      "metadata": {
        "id": "MQVCcrVKKNjj"
      },
      "execution_count": 62,
      "outputs": []
    },
    {
      "cell_type": "code",
      "source": [
        "kategori = os.listdir(path)\n",
        "kategori"
      ],
      "metadata": {
        "colab": {
          "base_uri": "https://localhost:8080/"
        },
        "id": "HIF7oYNnKQZE",
        "outputId": "2af3e413-9018-477a-f59e-749fc15e3928"
      },
      "execution_count": 63,
      "outputs": [
        {
          "output_type": "execute_result",
          "data": {
            "text/plain": [
              "['sunny', 'spring', 'tropical']"
            ]
          },
          "metadata": {},
          "execution_count": 63
        }
      ]
    },
    {
      "cell_type": "markdown",
      "source": [
        "Mengatur path dataset menjadi 3 train, val, dan test"
      ],
      "metadata": {
        "id": "Kin4N0ECKeuE"
      }
    },
    {
      "cell_type": "code",
      "source": [
        "train_dir = '/content/rokok_dataset'\n",
        "validation_dir = '/content/rokok_dataset'\n",
        "test_dir = '/content/rokok_dataset'"
      ],
      "metadata": {
        "id": "wSvc2tlhKk1r"
      },
      "execution_count": 64,
      "outputs": []
    },
    {
      "cell_type": "markdown",
      "source": [
        "Menggunakan ImageDataGenerator untuk memuat serta melakukan augmentasi pada"
      ],
      "metadata": {
        "id": "nsT4X2iUK53I"
      }
    },
    {
      "cell_type": "code",
      "source": [
        "train_datagen = ImageDataGenerator(\n",
        "    rescale=1./255,\n",
        "    rotation_range=20,\n",
        "    width_shift_range=0.2,\n",
        "    height_shift_range=0.2,\n",
        "    shear_range=0.2,\n",
        "    zoom_range=0.2,\n",
        "    horizontal_flip=True,\n",
        "    fill_mode='nearest'\n",
        ")\n",
        ""
      ],
      "metadata": {
        "id": "4tWxUUpjK_kt"
      },
      "execution_count": 65,
      "outputs": []
    },
    {
      "cell_type": "code",
      "source": [
        "validation_datagen = ImageDataGenerator(rescale=1./255)\n",
        "test_datagen = ImageDataGenerator(rescale=1./255)"
      ],
      "metadata": {
        "id": "h8KBJEmcLFkS"
      },
      "execution_count": 66,
      "outputs": []
    },
    {
      "cell_type": "markdown",
      "source": [
        "**Split dataset menjadi train, val, dan test**"
      ],
      "metadata": {
        "id": "Q9qpLoboLNy_"
      }
    },
    {
      "cell_type": "markdown",
      "source": [
        "Data Train"
      ],
      "metadata": {
        "id": "sE48CWC_LV5v"
      }
    },
    {
      "cell_type": "code",
      "source": [
        "train_generator = train_datagen.flow_from_directory(\n",
        "    train_dir,\n",
        "    target_size=(150, 150),\n",
        "    batch_size=32,\n",
        "    class_mode='binary'\n",
        ")"
      ],
      "metadata": {
        "colab": {
          "base_uri": "https://localhost:8080/"
        },
        "id": "YxSILFH3LWgC",
        "outputId": "dd77b7c6-36fa-4a3e-cbc7-3db73f206e46"
      },
      "execution_count": 67,
      "outputs": [
        {
          "output_type": "stream",
          "name": "stdout",
          "text": [
            "Found 318 images belonging to 3 classes.\n"
          ]
        }
      ]
    },
    {
      "cell_type": "markdown",
      "source": [
        "Data Val"
      ],
      "metadata": {
        "id": "ib0DYfZJL61W"
      }
    },
    {
      "cell_type": "code",
      "source": [
        "validation_generator = validation_datagen.flow_from_directory(\n",
        "    validation_dir,\n",
        "    target_size=(150, 150),\n",
        "    batch_size=32,\n",
        "    class_mode='binary'\n",
        ")"
      ],
      "metadata": {
        "colab": {
          "base_uri": "https://localhost:8080/"
        },
        "id": "doMX12wuL7XQ",
        "outputId": "3cbc11e1-45ff-4b96-dbe5-ad2c117d23d6"
      },
      "execution_count": 68,
      "outputs": [
        {
          "output_type": "stream",
          "name": "stdout",
          "text": [
            "Found 318 images belonging to 3 classes.\n"
          ]
        }
      ]
    },
    {
      "cell_type": "markdown",
      "source": [
        "Data Test"
      ],
      "metadata": {
        "id": "rqwGzO5UMBcH"
      }
    },
    {
      "cell_type": "code",
      "source": [
        "test_generator = test_datagen.flow_from_directory(\n",
        "    test_dir,\n",
        "    target_size=(150, 150),\n",
        "    batch_size=32,\n",
        "    class_mode='binary'\n",
        ")"
      ],
      "metadata": {
        "colab": {
          "base_uri": "https://localhost:8080/"
        },
        "id": "3Yq6QQZ-MB3l",
        "outputId": "a3064e94-1474-4c22-cd0a-e09833bccdcb"
      },
      "execution_count": 69,
      "outputs": [
        {
          "output_type": "stream",
          "name": "stdout",
          "text": [
            "Found 318 images belonging to 3 classes.\n"
          ]
        }
      ]
    },
    {
      "cell_type": "markdown",
      "source": [
        "* Membuat model sequential"
      ],
      "metadata": {
        "id": "brmQke7IMH3h"
      }
    },
    {
      "cell_type": "code",
      "source": [
        "model = Sequential()"
      ],
      "metadata": {
        "id": "lHEhJKeYMKjV"
      },
      "execution_count": 70,
      "outputs": []
    },
    {
      "cell_type": "markdown",
      "source": [
        "* Menggunakan pre-trained model VGG16"
      ],
      "metadata": {
        "id": "l0JLDcpeMRsI"
      }
    },
    {
      "cell_type": "code",
      "source": [
        "base_model = VGG16(include_top=False, weights='imagenet', input_shape=(150, 150, 3))\n",
        "base_model.trainable = False\n",
        "\n",
        "model.add(base_model)\n",
        "model.add(Flatten())\n",
        "model.add(Dense(256, activation='relu'))\n",
        "model.add(Dense(1, activation='sigmoid'))"
      ],
      "metadata": {
        "id": "w9CaGWSYMS9e"
      },
      "execution_count": 71,
      "outputs": []
    },
    {
      "cell_type": "markdown",
      "source": [
        "* Menggunakan optimizer, loss, dan metrics"
      ],
      "metadata": {
        "id": "fXsEuPYjMdKA"
      }
    },
    {
      "cell_type": "code",
      "source": [
        "model.compile(optimizer=Adam(lr=0.0001), loss='binary_crossentropy', metrics=['accuracy'])"
      ],
      "metadata": {
        "colab": {
          "base_uri": "https://localhost:8080/"
        },
        "id": "-cBMRuFiMfPl",
        "outputId": "1a8af119-bc0f-4a38-8810-9c8aa465877d"
      },
      "execution_count": 72,
      "outputs": [
        {
          "output_type": "stream",
          "name": "stderr",
          "text": [
            "WARNING:absl:`lr` is deprecated in Keras optimizer, please use `learning_rate` or use the legacy optimizer, e.g.,tf.keras.optimizers.legacy.Adam.\n"
          ]
        }
      ]
    },
    {
      "cell_type": "markdown",
      "source": [
        "* Menggunakan Callbacks"
      ],
      "metadata": {
        "id": "Fjzw8jFRMoZk"
      }
    },
    {
      "cell_type": "code",
      "source": [
        "early_stopping = EarlyStopping(patience=5, restore_best_weights=True)\n",
        "reduce_lr = ReduceLROnPlateau(factor=0.1, patience=3)"
      ],
      "metadata": {
        "id": "IsqfYPw7MsZi"
      },
      "execution_count": 73,
      "outputs": []
    },
    {
      "cell_type": "markdown",
      "source": [
        "* Latih Model"
      ],
      "metadata": {
        "id": "PvcKP1jyMz6n"
      }
    },
    {
      "cell_type": "code",
      "source": [
        "history = model.fit(\n",
        "    train_generator,\n",
        "    epochs=15,\n",
        "    validation_data=validation_generator,\n",
        "    callbacks=[early_stopping, reduce_lr]\n",
        ")"
      ],
      "metadata": {
        "colab": {
          "base_uri": "https://localhost:8080/"
        },
        "id": "1CqJazbpM1Cp",
        "outputId": "3562d322-e937-456f-80c7-56b7c060f1c4"
      },
      "execution_count": 74,
      "outputs": [
        {
          "output_type": "stream",
          "name": "stdout",
          "text": [
            "Epoch 1/15\n",
            "10/10 [==============================] - 11s 1s/step - loss: -2.7971 - accuracy: 0.3333 - val_loss: -10.1358 - val_accuracy: 0.3333 - lr: 0.0010\n",
            "Epoch 2/15\n",
            "10/10 [==============================] - 9s 942ms/step - loss: -13.1334 - accuracy: 0.3679 - val_loss: -22.5728 - val_accuracy: 0.4717 - lr: 0.0010\n",
            "Epoch 3/15\n",
            "10/10 [==============================] - 10s 1s/step - loss: -24.5790 - accuracy: 0.3836 - val_loss: -39.3364 - val_accuracy: 0.4151 - lr: 0.0010\n",
            "Epoch 4/15\n",
            "10/10 [==============================] - 10s 1s/step - loss: -40.2241 - accuracy: 0.3522 - val_loss: -59.4140 - val_accuracy: 0.4277 - lr: 0.0010\n",
            "Epoch 5/15\n",
            "10/10 [==============================] - 10s 1s/step - loss: -59.5895 - accuracy: 0.3805 - val_loss: -84.3191 - val_accuracy: 0.4245 - lr: 0.0010\n",
            "Epoch 6/15\n",
            "10/10 [==============================] - 10s 1s/step - loss: -80.8658 - accuracy: 0.3805 - val_loss: -112.4902 - val_accuracy: 0.4403 - lr: 0.0010\n",
            "Epoch 7/15\n",
            "10/10 [==============================] - 9s 929ms/step - loss: -111.1114 - accuracy: 0.3899 - val_loss: -149.6477 - val_accuracy: 0.4025 - lr: 0.0010\n",
            "Epoch 8/15\n",
            "10/10 [==============================] - 10s 1s/step - loss: -141.0110 - accuracy: 0.3585 - val_loss: -189.1449 - val_accuracy: 0.4371 - lr: 0.0010\n",
            "Epoch 9/15\n",
            "10/10 [==============================] - 10s 1s/step - loss: -176.5307 - accuracy: 0.3679 - val_loss: -237.4036 - val_accuracy: 0.4340 - lr: 0.0010\n",
            "Epoch 10/15\n",
            "10/10 [==============================] - 10s 1s/step - loss: -222.8500 - accuracy: 0.3836 - val_loss: -291.6375 - val_accuracy: 0.4277 - lr: 0.0010\n",
            "Epoch 11/15\n",
            "10/10 [==============================] - 9s 963ms/step - loss: -270.9012 - accuracy: 0.3868 - val_loss: -346.9496 - val_accuracy: 0.4277 - lr: 0.0010\n",
            "Epoch 12/15\n",
            "10/10 [==============================] - 10s 992ms/step - loss: -314.8730 - accuracy: 0.3931 - val_loss: -410.7448 - val_accuracy: 0.4308 - lr: 0.0010\n",
            "Epoch 13/15\n",
            "10/10 [==============================] - 11s 1s/step - loss: -379.5930 - accuracy: 0.3868 - val_loss: -477.1327 - val_accuracy: 0.4277 - lr: 0.0010\n",
            "Epoch 14/15\n",
            "10/10 [==============================] - 10s 1s/step - loss: -444.3650 - accuracy: 0.3648 - val_loss: -560.8279 - val_accuracy: 0.4277 - lr: 0.0010\n",
            "Epoch 15/15\n",
            "10/10 [==============================] - 10s 1s/step - loss: -515.3597 - accuracy: 0.3679 - val_loss: -638.5746 - val_accuracy: 0.4497 - lr: 0.0010\n"
          ]
        }
      ]
    },
    {
      "cell_type": "markdown",
      "source": [
        "* Evaluasi model"
      ],
      "metadata": {
        "id": "UI3xybemUXiD"
      }
    },
    {
      "cell_type": "code",
      "source": [
        "test_loss, test_accuracy = model.evaluate(test_generator)\n",
        "print(f'Akurasi pada data test: {test_accuracy:.2f}')"
      ],
      "metadata": {
        "colab": {
          "base_uri": "https://localhost:8080/"
        },
        "id": "_iXeDb9VUZ-8",
        "outputId": "24e951b6-3386-4dd1-e91b-2f3a5a3ea4b6"
      },
      "execution_count": 75,
      "outputs": [
        {
          "output_type": "stream",
          "name": "stdout",
          "text": [
            "10/10 [==============================] - 5s 468ms/step - loss: -638.5746 - accuracy: 0.4497\n",
            "Akurasi pada data test: 0.45\n"
          ]
        }
      ]
    },
    {
      "cell_type": "markdown",
      "source": [
        "* Membuat grafik pergerakan metrik Accuracy dan Loss terhadap epoch pada Training dan Validation"
      ],
      "metadata": {
        "id": "K8iDJkWGUn3U"
      }
    },
    {
      "cell_type": "code",
      "source": [
        "acc = history.history['accuracy']\n",
        "val_acc = history.history['val_accuracy']\n",
        "loss = history.history['loss']\n",
        "val_loss = history.history['val_loss']\n",
        "\n",
        "epochs = range(1, len(acc) + 1)"
      ],
      "metadata": {
        "id": "IQ8shBd7UqsL"
      },
      "execution_count": 76,
      "outputs": []
    },
    {
      "cell_type": "markdown",
      "source": [
        "* Grafik Accuracy"
      ],
      "metadata": {
        "id": "uEgli8uJU0wv"
      }
    },
    {
      "cell_type": "code",
      "source": [
        "plt.figure(figsize=(14, 5))\n",
        "plt.subplot(1, 2, 1)\n",
        "plt.plot(epochs, acc, 'r', label='Train')\n",
        "plt.plot(epochs, val_acc, 'b', label='Val')\n",
        "plt.title('Model Accuracy')\n",
        "plt.legend()"
      ],
      "metadata": {
        "colab": {
          "base_uri": "https://localhost:8080/",
          "height": 485
        },
        "id": "JBOubjFNU29A",
        "outputId": "999513d0-99b5-4710-b02a-32ff1bf4011f"
      },
      "execution_count": 77,
      "outputs": [
        {
          "output_type": "execute_result",
          "data": {
            "text/plain": [
              "<matplotlib.legend.Legend at 0x7b6434256a40>"
            ]
          },
          "metadata": {},
          "execution_count": 77
        },
        {
          "output_type": "display_data",
          "data": {
            "text/plain": [
              "<Figure size 1400x500 with 1 Axes>"
            ],
            "image/png": "[encoded data removed]"
          },
          "metadata": {}
        }
      ]
    },
    {
      "cell_type": "markdown",
      "source": [
        "* Grafik Loss"
      ],
      "metadata": {
        "id": "dAwMjo2fU8lC"
      }
    },
    {
      "cell_type": "code",
      "source": [
        "plt.figure(figsize=(14, 5))\n",
        "plt.subplot(1, 2, 2)\n",
        "plt.plot(epochs, loss, 'r', label='Train')\n",
        "plt.plot(epochs, val_loss, 'b', label='Val')\n",
        "plt.title('Model Loss')\n",
        "plt.legend()\n",
        "\n",
        "plt.show()"
      ],
      "metadata": {
        "colab": {
          "base_uri": "https://localhost:8080/",
          "height": 468
        },
        "id": "1yGYsJh3U_DP",
        "outputId": "826476ef-8604-47e7-ddd5-a83985400b12"
      },
      "execution_count": 78,
      "outputs": [
        {
          "output_type": "display_data",
          "data": {
            "text/plain": [
              "<Figure size 1400x500 with 1 Axes>"
            ],
            "image/png": "[encoded data removed]"
          },
          "metadata": {}
        }
      ]
    },
    {
      "cell_type": "code",
      "source": [],
      "metadata": {
        "id": "hMzSxz5ZVByF"
      },
      "execution_count": null,
      "outputs": []
    }
  ]
}