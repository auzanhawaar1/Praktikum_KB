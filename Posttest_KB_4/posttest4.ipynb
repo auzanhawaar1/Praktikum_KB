{
 "cells": [
  {
   "cell_type": "markdown",
   "id": "7d1cfa20-b103-4d34-8574-ddfdf2b1befb",
   "metadata": {},
   "source": [
    "## POSTTEST 4"
   ]
  },
  {
   "cell_type": "code",
   "execution_count": 1,
   "id": "8b5c9523-df0f-4427-a0fb-baabf70beac9",
   "metadata": {},
   "outputs": [],
   "source": [
    "import numpy as np\n",
    "import pandas as pd\n",
    "from sklearn.preprocessing import MinMaxScaler, StandardScaler, OneHotEncoder\n",
    "from sklearn.model_selection import train_test_split\n",
    "from sklearn.impute import SimpleImputer"
   ]
  },
  {
   "cell_type": "markdown",
   "id": "06119a67-bcdf-41ef-8b57-7814428def63",
   "metadata": {},
   "source": [
    "# INFO DATA"
   ]
  },
  {
   "cell_type": "code",
   "execution_count": 4,
   "id": "119d7c5c-7fd0-41ea-b950-c1780493bbdf",
   "metadata": {},
   "outputs": [
    {
     "name": "stdout",
     "output_type": "stream",
     "text": [
      "<class 'pandas.core.frame.DataFrame'>\n",
      "RangeIndex: 53949 entries, 0 to 53948\n",
      "Data columns (total 34 columns):\n",
      " #   Column       Non-Null Count  Dtype  \n",
      "---  ------       --------------  -----  \n",
      " 0   League       53949 non-null  object \n",
      " 1   Season       53949 non-null  object \n",
      " 2   Stage        53949 non-null  object \n",
      " 3   Player       53949 non-null  object \n",
      " 4   Team         53938 non-null  object \n",
      " 5   GP           53949 non-null  int64  \n",
      " 6   MIN          53949 non-null  float64\n",
      " 7   FGM          53949 non-null  int64  \n",
      " 8   FGA          53949 non-null  int64  \n",
      " 9   3PM          53949 non-null  int64  \n",
      " 10  3PA          53949 non-null  int64  \n",
      " 11  FTM          53949 non-null  int64  \n",
      " 12  FTA          53949 non-null  int64  \n",
      " 13  TOV          53949 non-null  int64  \n",
      " 14  PF           53949 non-null  int64  \n",
      " 15  ORB          53949 non-null  int64  \n",
      " 16  DRB          53949 non-null  int64  \n",
      " 17  REB          53949 non-null  int64  \n",
      " 18  AST          53949 non-null  int64  \n",
      " 19  STL          53949 non-null  int64  \n",
      " 20  BLK          53949 non-null  int64  \n",
      " 21  PTS          53949 non-null  int64  \n",
      " 22  birth_year   53631 non-null  float64\n",
      " 23  birth_month  53631 non-null  object \n",
      " 24  birth_date   53631 non-null  object \n",
      " 25  height       53875 non-null  object \n",
      " 26  height_cm    53875 non-null  float64\n",
      " 27  weight       49385 non-null  float64\n",
      " 28  weight_kg    49385 non-null  float64\n",
      " 29  nationality  53942 non-null  object \n",
      " 30  high_school  23683 non-null  object \n",
      " 31  draft_round  10136 non-null  float64\n",
      " 32  draft_pick   10136 non-null  float64\n",
      " 33  draft_team   10136 non-null  object \n",
      "dtypes: float64(7), int64(16), object(11)\n",
      "memory usage: 14.0+ MB\n"
     ]
    }
   ],
   "source": [
    "df = pd.read_csv(\"players_stats_by_season_full_details.csv\")\n",
    "df.info()"
   ]
  },
  {
   "cell_type": "markdown",
   "id": "cdde1ea5-1872-4dfc-b84b-475975fd0a88",
   "metadata": {},
   "source": [
    "Panjang Kolom dan Atribut"
   ]
  },
  {
   "cell_type": "code",
   "execution_count": 5,
   "id": "fe1a4895-f72a-4031-ad10-8d0908a83ba6",
   "metadata": {},
   "outputs": [
    {
     "data": {
      "text/plain": [
       "(53949, 34)"
      ]
     },
     "execution_count": 5,
     "metadata": {},
     "output_type": "execute_result"
    }
   ],
   "source": [
    "df.shape"
   ]
  },
  {
   "cell_type": "markdown",
   "id": "85ad5c23-91a5-4168-b9e0-c40ad9d31124",
   "metadata": {},
   "source": [
    "# Spilt Data 70:30"
   ]
  },
  {
   "cell_type": "code",
   "execution_count": 6,
   "id": "97ca8e93-f841-420a-897f-bcf98290486a",
   "metadata": {},
   "outputs": [
    {
     "name": "stdout",
     "output_type": "stream",
     "text": [
      "Dimensi X_train (37764, 33)\n",
      "Dimensi X_test (16185, 33)\n",
      "Dimensi y_train (37764,)\n",
      "Dimensi y_test (16185,)\n"
     ]
    }
   ],
   "source": [
    "X = df.iloc[:, : -1]\n",
    "y = df.iloc[:, -1]\n",
    "\n",
    "X_train, X_test, y_train, y_test = train_test_split(X, y, test_size=0.3)\n",
    "\n",
    "print(\"Dimensi X_train\", X_train.shape)\n",
    "print(\"Dimensi X_test\", X_test.shape)\n",
    "print(\"Dimensi y_train\", y_train.shape)\n",
    "print(\"Dimensi y_test\", y_test.shape)"
   ]
  },
  {
   "cell_type": "markdown",
   "id": "05e1849e-3f3a-49ec-907a-751f6613b29d",
   "metadata": {},
   "source": [
    "# Normalisasi Data"
   ]
  },
  {
   "cell_type": "code",
   "execution_count": 7,
   "id": "31a4df00-1c09-494d-9e96-5162e28bddbf",
   "metadata": {},
   "outputs": [
    {
     "name": "stdout",
     "output_type": "stream",
     "text": [
      "\n",
      "Data Sebelum dan Sesudah dilakukan normalisasi : \n",
      "\n"
     ]
    },
    {
     "data": {
      "text/html": [
       "<div>\n",
       "<style scoped>\n",
       "    .dataframe tbody tr th:only-of-type {\n",
       "        vertical-align: middle;\n",
       "    }\n",
       "\n",
       "    .dataframe tbody tr th {\n",
       "        vertical-align: top;\n",
       "    }\n",
       "\n",
       "    .dataframe thead th {\n",
       "        text-align: right;\n",
       "    }\n",
       "</style>\n",
       "<table border=\"1\" class=\"dataframe\">\n",
       "  <thead>\n",
       "    <tr style=\"text-align: right;\">\n",
       "      <th></th>\n",
       "      <th>MIN</th>\n",
       "      <th>MIN_normalisasi</th>\n",
       "    </tr>\n",
       "  </thead>\n",
       "  <tbody>\n",
       "    <tr>\n",
       "      <th>0</th>\n",
       "      <td>3163.0</td>\n",
       "      <td>0.907604</td>\n",
       "    </tr>\n",
       "    <tr>\n",
       "      <th>1</th>\n",
       "      <td>3126.0</td>\n",
       "      <td>0.896987</td>\n",
       "    </tr>\n",
       "    <tr>\n",
       "      <th>2</th>\n",
       "      <td>2947.0</td>\n",
       "      <td>0.845624</td>\n",
       "    </tr>\n",
       "    <tr>\n",
       "      <th>3</th>\n",
       "      <td>2853.0</td>\n",
       "      <td>0.818651</td>\n",
       "    </tr>\n",
       "    <tr>\n",
       "      <th>4</th>\n",
       "      <td>3425.0</td>\n",
       "      <td>0.982783</td>\n",
       "    </tr>\n",
       "    <tr>\n",
       "      <th>5</th>\n",
       "      <td>3148.0</td>\n",
       "      <td>0.903300</td>\n",
       "    </tr>\n",
       "    <tr>\n",
       "      <th>6</th>\n",
       "      <td>2776.0</td>\n",
       "      <td>0.796557</td>\n",
       "    </tr>\n",
       "    <tr>\n",
       "      <th>7</th>\n",
       "      <td>3243.0</td>\n",
       "      <td>0.930560</td>\n",
       "    </tr>\n",
       "    <tr>\n",
       "      <th>8</th>\n",
       "      <td>3464.0</td>\n",
       "      <td>0.993974</td>\n",
       "    </tr>\n",
       "    <tr>\n",
       "      <th>9</th>\n",
       "      <td>2880.0</td>\n",
       "      <td>0.826399</td>\n",
       "    </tr>\n",
       "  </tbody>\n",
       "</table>\n",
       "</div>"
      ],
      "text/plain": [
       "      MIN  MIN_normalisasi\n",
       "0  3163.0         0.907604\n",
       "1  3126.0         0.896987\n",
       "2  2947.0         0.845624\n",
       "3  2853.0         0.818651\n",
       "4  3425.0         0.982783\n",
       "5  3148.0         0.903300\n",
       "6  2776.0         0.796557\n",
       "7  3243.0         0.930560\n",
       "8  3464.0         0.993974\n",
       "9  2880.0         0.826399"
      ]
     },
     "execution_count": 7,
     "metadata": {},
     "output_type": "execute_result"
    }
   ],
   "source": [
    "min_max = MinMaxScaler()\n",
    "copy1 = df\n",
    "dataCopy_normalization = copy1[[\"MIN\"]]\n",
    "\n",
    "normalization = min_max.fit_transform(dataCopy_normalization[[\"MIN\"]])\n",
    "\n",
    "data_normalization = pd.DataFrame(normalization)\n",
    "data_normalization.columns =[\"MIN_normalisasi\"]\n",
    "\n",
    "dataCopy_normalization = dataCopy_normalization.join(data_normalization[\"MIN_normalisasi\"]).reset_index()\n",
    "dataCopy_normalization = dataCopy_normalization.drop(\"index\", axis=1)\n",
    "\n",
    "print()\n",
    "print(\"Data Sebelum dan Sesudah dilakukan normalisasi : \\n\")\n",
    "dataCopy_normalization.head(10)"
   ]
  },
  {
   "cell_type": "markdown",
   "id": "d7e10a2c-7de6-40ff-bd70-7a212094fe7e",
   "metadata": {},
   "source": [
    "# Standarisasi Data"
   ]
  },
  {
   "cell_type": "code",
   "execution_count": 8,
   "id": "d9958696-3362-4dc2-96b5-41f0d791e262",
   "metadata": {},
   "outputs": [],
   "source": [
    "df_copy = df.copy()\n",
    "columns_to_scale = ['MIN', 'FGM', 'FGA', '3PM', '3PA']\n",
    "\n",
    "scaler = StandardScaler()\n",
    "df_copy[columns_to_scale] = scaler.fit_transform(df_copy[columns_to_scale])\n"
   ]
  },
  {
   "cell_type": "code",
   "execution_count": 9,
   "id": "1825d458-e730-4db9-8cb0-cf49349cd926",
   "metadata": {},
   "outputs": [
    {
     "name": "stdout",
     "output_type": "stream",
     "text": [
      "Data Sebelum Scaling:\n",
      "      MIN  FGM   FGA  3PM  3PA\n",
      "0  3163.0  956  1665    0    1\n",
      "1  3126.0  788  1696   95  236\n",
      "2  2947.0  752  1476    2    8\n",
      "3  2853.0  729  1733   89  261\n",
      "4  3425.0  747  1666  177  520\n",
      "\n",
      "Data Sesudah Scaling:\n",
      "        MIN       FGM       FGA       3PM       3PA\n",
      "0  4.512384  8.414270  6.692832 -0.928127 -0.988434\n",
      "1  4.443123  6.737006  6.838953  2.169049  1.924616\n",
      "2  4.108050  6.377592  5.801966 -0.862923 -0.901662\n",
      "3  3.932090  6.147967  7.013355  1.973437  2.234515\n",
      "4  5.002827  6.327674  6.697545  4.842400  5.445068\n"
     ]
    }
   ],
   "source": [
    "print(\"Data Sebelum Scaling:\")\n",
    "print(df[columns_to_scale].head())\n",
    "\n",
    "print(\"\\nData Sesudah Scaling:\")\n",
    "print(df_copy[columns_to_scale].head())"
   ]
  },
  {
   "cell_type": "markdown",
   "id": "a90ab7ef-8aee-4639-8189-35af64890d83",
   "metadata": {},
   "source": [
    "# Data Clening"
   ]
  },
  {
   "cell_type": "markdown",
   "id": "a361629a-20f2-4fe1-9a72-39a6b79f9cb8",
   "metadata": {},
   "source": [
    "### Mengecek nilai null"
   ]
  },
  {
   "cell_type": "code",
   "execution_count": 10,
   "id": "01542a26-7d0a-47f6-8618-209c145180ea",
   "metadata": {},
   "outputs": [
    {
     "data": {
      "text/plain": [
       "League             0\n",
       "Season             0\n",
       "Stage              0\n",
       "Player             0\n",
       "Team              11\n",
       "GP                 0\n",
       "MIN                0\n",
       "FGM                0\n",
       "FGA                0\n",
       "3PM                0\n",
       "3PA                0\n",
       "FTM                0\n",
       "FTA                0\n",
       "TOV                0\n",
       "PF                 0\n",
       "ORB                0\n",
       "DRB                0\n",
       "REB                0\n",
       "AST                0\n",
       "STL                0\n",
       "BLK                0\n",
       "PTS                0\n",
       "birth_year       318\n",
       "birth_month      318\n",
       "birth_date       318\n",
       "height            74\n",
       "height_cm         74\n",
       "weight          4564\n",
       "weight_kg       4564\n",
       "nationality        7\n",
       "high_school    30266\n",
       "draft_round    43813\n",
       "draft_pick     43813\n",
       "draft_team     43813\n",
       "dtype: int64"
      ]
     },
     "execution_count": 10,
     "metadata": {},
     "output_type": "execute_result"
    }
   ],
   "source": [
    "df.isnull().sum()"
   ]
  },
  {
   "cell_type": "markdown",
   "id": "171dbb71-43a5-4d1b-989d-374cf0d327a9",
   "metadata": {},
   "source": [
    "## Data Bilangan Bulat dengan Strategi Median"
   ]
  },
  {
   "cell_type": "code",
   "execution_count": 14,
   "id": "81004959-02d8-4352-8439-6214583dddd6",
   "metadata": {},
   "outputs": [
    {
     "data": {
      "text/plain": [
       "League             0\n",
       "Season             0\n",
       "Stage              0\n",
       "Player             0\n",
       "Team              11\n",
       "GP                 0\n",
       "MIN                0\n",
       "FGM                0\n",
       "FGA                0\n",
       "3PM                0\n",
       "3PA                0\n",
       "FTM                0\n",
       "FTA                0\n",
       "TOV                0\n",
       "PF                 0\n",
       "ORB                0\n",
       "DRB                0\n",
       "REB                0\n",
       "AST                0\n",
       "STL                0\n",
       "BLK                0\n",
       "PTS                0\n",
       "birth_year         0\n",
       "birth_month      318\n",
       "birth_date       318\n",
       "height            74\n",
       "height_cm         74\n",
       "weight          4564\n",
       "weight_kg       4564\n",
       "nationality        7\n",
       "high_school    30266\n",
       "draft_round    43813\n",
       "draft_pick     43813\n",
       "draft_team     43813\n",
       "dtype: int64"
      ]
     },
     "execution_count": 14,
     "metadata": {},
     "output_type": "execute_result"
    }
   ],
   "source": [
    "strategi1 = SimpleImputer(strategy=\"median\")\n",
    "\n",
    "df['birth_year'] = strategi1.fit_transform(df[['birth_year']])\n",
    "\n",
    "df.isna().sum()"
   ]
  },
  {
   "cell_type": "code",
   "execution_count": 15,
   "id": "6c2dc4ba-a92d-41e3-b395-ae98527967a0",
   "metadata": {},
   "outputs": [
    {
     "name": "stdout",
     "output_type": "stream",
     "text": [
      "15      1976.0\n",
      "100     1975.0\n",
      "200     1966.0\n",
      "300     1969.0\n",
      "400     1977.0\n",
      "500     1970.0\n",
      "600     1981.0\n",
      "700     1973.0\n",
      "800     1972.0\n",
      "900     1974.0\n",
      "1000    1981.0\n",
      "Name: birth_year, dtype: float64\n"
     ]
    }
   ],
   "source": [
    "print(df.birth_year[[15,100,200,300,400,500,600,700,800,900,1000]])"
   ]
  },
  {
   "cell_type": "markdown",
   "id": "342e5b61-dfbd-4706-a560-79d6a6c5e7bf",
   "metadata": {},
   "source": [
    "## Data Bilangan Desimal dengan Strategi Mean"
   ]
  },
  {
   "cell_type": "code",
   "execution_count": 16,
   "id": "3ce6b089-6111-488d-9de2-05017cfbee5e",
   "metadata": {},
   "outputs": [
    {
     "data": {
      "text/plain": [
       "League             0\n",
       "Season             0\n",
       "Stage              0\n",
       "Player             0\n",
       "Team              11\n",
       "GP                 0\n",
       "MIN                0\n",
       "FGM                0\n",
       "FGA                0\n",
       "3PM                0\n",
       "3PA                0\n",
       "FTM                0\n",
       "FTA                0\n",
       "TOV                0\n",
       "PF                 0\n",
       "ORB                0\n",
       "DRB                0\n",
       "REB                0\n",
       "AST                0\n",
       "STL                0\n",
       "BLK                0\n",
       "PTS                0\n",
       "birth_year         0\n",
       "birth_month      318\n",
       "birth_date       318\n",
       "height            74\n",
       "height_cm         74\n",
       "weight          4564\n",
       "weight_kg       4564\n",
       "nationality        7\n",
       "high_school    30266\n",
       "draft_round        0\n",
       "draft_pick     43813\n",
       "draft_team     43813\n",
       "dtype: int64"
      ]
     },
     "execution_count": 16,
     "metadata": {},
     "output_type": "execute_result"
    }
   ],
   "source": [
    "strategi2 = SimpleImputer(strategy=\"mean\")\n",
    "\n",
    "df[\"draft_round\"] = strategi2.fit_transform(df[[\"draft_round\"]])\n",
    "\n",
    "df.isna().sum()"
   ]
  },
  {
   "cell_type": "code",
   "execution_count": 17,
   "id": "ef95aa8e-0179-4874-9628-4453b9f25f9d",
   "metadata": {},
   "outputs": [
    {
     "name": "stdout",
     "output_type": "stream",
     "text": [
      "15      1.00000\n",
      "100     1.00000\n",
      "200     1.00000\n",
      "300     1.00000\n",
      "400     2.00000\n",
      "500     1.38753\n",
      "600     1.00000\n",
      "700     1.00000\n",
      "800     1.38753\n",
      "900     1.38753\n",
      "1000    1.00000\n",
      "Name: draft_round, dtype: float64\n"
     ]
    }
   ],
   "source": [
    "print(df.draft_round[[15,100,200,300,400,500,600,700,800,900,1000]])"
   ]
  },
  {
   "cell_type": "markdown",
   "id": "1bba650b-9dfa-4c13-8526-c47b2ec66f26",
   "metadata": {},
   "source": [
    "## Karena Data tidak ada yang bernilai null maka dibuat diSeason"
   ]
  },
  {
   "cell_type": "code",
   "execution_count": 40,
   "id": "0b20aa77-96a9-4cda-8d97-ca53881fec5f",
   "metadata": {},
   "outputs": [
    {
     "data": {
      "text/html": [
       "<div>\n",
       "<style scoped>\n",
       "    .dataframe tbody tr th:only-of-type {\n",
       "        vertical-align: middle;\n",
       "    }\n",
       "\n",
       "    .dataframe tbody tr th {\n",
       "        vertical-align: top;\n",
       "    }\n",
       "\n",
       "    .dataframe thead th {\n",
       "        text-align: right;\n",
       "    }\n",
       "</style>\n",
       "<table border=\"1\" class=\"dataframe\">\n",
       "  <thead>\n",
       "    <tr style=\"text-align: right;\">\n",
       "      <th></th>\n",
       "      <th>League</th>\n",
       "      <th>Season</th>\n",
       "      <th>Stage</th>\n",
       "      <th>Player</th>\n",
       "      <th>Team</th>\n",
       "      <th>GP</th>\n",
       "      <th>MIN</th>\n",
       "      <th>FGM</th>\n",
       "      <th>FGA</th>\n",
       "      <th>3PM</th>\n",
       "      <th>...</th>\n",
       "      <th>birth_date</th>\n",
       "      <th>height</th>\n",
       "      <th>height_cm</th>\n",
       "      <th>weight</th>\n",
       "      <th>weight_kg</th>\n",
       "      <th>nationality</th>\n",
       "      <th>high_school</th>\n",
       "      <th>draft_round</th>\n",
       "      <th>draft_pick</th>\n",
       "      <th>draft_team</th>\n",
       "    </tr>\n",
       "  </thead>\n",
       "  <tbody>\n",
       "    <tr>\n",
       "      <th>15</th>\n",
       "      <td>NBA</td>\n",
       "      <td>None</td>\n",
       "      <td>Regular_Season</td>\n",
       "      <td>Shareef Abdur-Rahim</td>\n",
       "      <td>VAN</td>\n",
       "      <td>82</td>\n",
       "      <td>3223.0</td>\n",
       "      <td>594</td>\n",
       "      <td>1277</td>\n",
       "      <td>29</td>\n",
       "      <td>...</td>\n",
       "      <td>Dec 11, 1976</td>\n",
       "      <td>6-9</td>\n",
       "      <td>206.0</td>\n",
       "      <td>225.0</td>\n",
       "      <td>102.0</td>\n",
       "      <td>United States</td>\n",
       "      <td>Joseph Wheeler High School</td>\n",
       "      <td>1.00000</td>\n",
       "      <td>3.0</td>\n",
       "      <td>Vancouver Grizzlies</td>\n",
       "    </tr>\n",
       "    <tr>\n",
       "      <th>30</th>\n",
       "      <td>NBA</td>\n",
       "      <td>1999 - 2000</td>\n",
       "      <td>Regular_Season</td>\n",
       "      <td>Dirk Nowitzki</td>\n",
       "      <td>DAL</td>\n",
       "      <td>82</td>\n",
       "      <td>2938.0</td>\n",
       "      <td>515</td>\n",
       "      <td>1118</td>\n",
       "      <td>116</td>\n",
       "      <td>...</td>\n",
       "      <td>Jun 19, 1978</td>\n",
       "      <td>7-0</td>\n",
       "      <td>213.0</td>\n",
       "      <td>245.0</td>\n",
       "      <td>111.0</td>\n",
       "      <td>Germany</td>\n",
       "      <td>NaN</td>\n",
       "      <td>1.00000</td>\n",
       "      <td>9.0</td>\n",
       "      <td>Milwaukee Bucks</td>\n",
       "    </tr>\n",
       "    <tr>\n",
       "      <th>34</th>\n",
       "      <td>NBA</td>\n",
       "      <td>1999 - 2000</td>\n",
       "      <td>Regular_Season</td>\n",
       "      <td>Darrell Armstrong</td>\n",
       "      <td>ORL</td>\n",
       "      <td>82</td>\n",
       "      <td>2590.0</td>\n",
       "      <td>484</td>\n",
       "      <td>1119</td>\n",
       "      <td>137</td>\n",
       "      <td>...</td>\n",
       "      <td>Jun 22, 1968</td>\n",
       "      <td>6-0</td>\n",
       "      <td>183.0</td>\n",
       "      <td>170.0</td>\n",
       "      <td>77.0</td>\n",
       "      <td>United States</td>\n",
       "      <td>Ashbrook High School</td>\n",
       "      <td>1.38753</td>\n",
       "      <td>NaN</td>\n",
       "      <td>NaN</td>\n",
       "    </tr>\n",
       "    <tr>\n",
       "      <th>55</th>\n",
       "      <td>NBA</td>\n",
       "      <td>1999 - 2000</td>\n",
       "      <td>Regular_Season</td>\n",
       "      <td>David Wesley</td>\n",
       "      <td>CHA</td>\n",
       "      <td>82</td>\n",
       "      <td>2760.0</td>\n",
       "      <td>407</td>\n",
       "      <td>955</td>\n",
       "      <td>88</td>\n",
       "      <td>...</td>\n",
       "      <td>Nov 14, 1970</td>\n",
       "      <td>6-0</td>\n",
       "      <td>183.0</td>\n",
       "      <td>190.0</td>\n",
       "      <td>86.0</td>\n",
       "      <td>United States</td>\n",
       "      <td>Longview High School</td>\n",
       "      <td>1.38753</td>\n",
       "      <td>NaN</td>\n",
       "      <td>NaN</td>\n",
       "    </tr>\n",
       "    <tr>\n",
       "      <th>65</th>\n",
       "      <td>NBA</td>\n",
       "      <td>1999 - 2000</td>\n",
       "      <td>Regular_Season</td>\n",
       "      <td>Vlade Divac</td>\n",
       "      <td>SAC</td>\n",
       "      <td>82</td>\n",
       "      <td>2374.0</td>\n",
       "      <td>384</td>\n",
       "      <td>764</td>\n",
       "      <td>7</td>\n",
       "      <td>...</td>\n",
       "      <td>Feb 3, 1968</td>\n",
       "      <td>7-1</td>\n",
       "      <td>216.0</td>\n",
       "      <td>260.0</td>\n",
       "      <td>118.0</td>\n",
       "      <td>Serbia</td>\n",
       "      <td>NaN</td>\n",
       "      <td>1.00000</td>\n",
       "      <td>26.0</td>\n",
       "      <td>Los Angeles Lakers</td>\n",
       "    </tr>\n",
       "    <tr>\n",
       "      <th>...</th>\n",
       "      <td>...</td>\n",
       "      <td>...</td>\n",
       "      <td>...</td>\n",
       "      <td>...</td>\n",
       "      <td>...</td>\n",
       "      <td>...</td>\n",
       "      <td>...</td>\n",
       "      <td>...</td>\n",
       "      <td>...</td>\n",
       "      <td>...</td>\n",
       "      <td>...</td>\n",
       "      <td>...</td>\n",
       "      <td>...</td>\n",
       "      <td>...</td>\n",
       "      <td>...</td>\n",
       "      <td>...</td>\n",
       "      <td>...</td>\n",
       "      <td>...</td>\n",
       "      <td>...</td>\n",
       "      <td>...</td>\n",
       "      <td>...</td>\n",
       "    </tr>\n",
       "    <tr>\n",
       "      <th>53944</th>\n",
       "      <td>Ukrainian-Superleague</td>\n",
       "      <td>2019 - 2020</td>\n",
       "      <td>International</td>\n",
       "      <td>Kyrylo Meshheryakov</td>\n",
       "      <td>MYK</td>\n",
       "      <td>15</td>\n",
       "      <td>127.0</td>\n",
       "      <td>7</td>\n",
       "      <td>28</td>\n",
       "      <td>2</td>\n",
       "      <td>...</td>\n",
       "      <td>Aug 17, 1995</td>\n",
       "      <td>6-6</td>\n",
       "      <td>198.0</td>\n",
       "      <td>182.0</td>\n",
       "      <td>83.0</td>\n",
       "      <td>Ukraine</td>\n",
       "      <td>NaN</td>\n",
       "      <td>1.38753</td>\n",
       "      <td>NaN</td>\n",
       "      <td>NaN</td>\n",
       "    </tr>\n",
       "    <tr>\n",
       "      <th>53945</th>\n",
       "      <td>Ukrainian-Superleague</td>\n",
       "      <td>2019 - 2020</td>\n",
       "      <td>International</td>\n",
       "      <td>Yaroslav Kadygrob</td>\n",
       "      <td>ODE</td>\n",
       "      <td>10</td>\n",
       "      <td>81.7</td>\n",
       "      <td>5</td>\n",
       "      <td>16</td>\n",
       "      <td>4</td>\n",
       "      <td>...</td>\n",
       "      <td>Oct 28, 1991</td>\n",
       "      <td>6-3</td>\n",
       "      <td>191.0</td>\n",
       "      <td>187.0</td>\n",
       "      <td>85.0</td>\n",
       "      <td>Ukraine</td>\n",
       "      <td>NaN</td>\n",
       "      <td>1.38753</td>\n",
       "      <td>NaN</td>\n",
       "      <td>NaN</td>\n",
       "    </tr>\n",
       "    <tr>\n",
       "      <th>53946</th>\n",
       "      <td>Ukrainian-Superleague</td>\n",
       "      <td>2019 - 2020</td>\n",
       "      <td>International</td>\n",
       "      <td>Ernesto Tkachuk</td>\n",
       "      <td>ODE</td>\n",
       "      <td>16</td>\n",
       "      <td>124.7</td>\n",
       "      <td>1</td>\n",
       "      <td>15</td>\n",
       "      <td>0</td>\n",
       "      <td>...</td>\n",
       "      <td>Sep 17, 1994</td>\n",
       "      <td>6-2</td>\n",
       "      <td>188.0</td>\n",
       "      <td>200.0</td>\n",
       "      <td>91.0</td>\n",
       "      <td>Ukraine</td>\n",
       "      <td>NaN</td>\n",
       "      <td>1.38753</td>\n",
       "      <td>NaN</td>\n",
       "      <td>NaN</td>\n",
       "    </tr>\n",
       "    <tr>\n",
       "      <th>53947</th>\n",
       "      <td>Ukrainian-Superleague</td>\n",
       "      <td>2019 - 2020</td>\n",
       "      <td>International</td>\n",
       "      <td>Andrij Shapovalov</td>\n",
       "      <td>KHAR</td>\n",
       "      <td>12</td>\n",
       "      <td>59.2</td>\n",
       "      <td>0</td>\n",
       "      <td>8</td>\n",
       "      <td>0</td>\n",
       "      <td>...</td>\n",
       "      <td>Nov 10, 1993</td>\n",
       "      <td>6-2</td>\n",
       "      <td>188.0</td>\n",
       "      <td>171.0</td>\n",
       "      <td>78.0</td>\n",
       "      <td>Ukraine</td>\n",
       "      <td>NaN</td>\n",
       "      <td>1.38753</td>\n",
       "      <td>NaN</td>\n",
       "      <td>NaN</td>\n",
       "    </tr>\n",
       "    <tr>\n",
       "      <th>53948</th>\n",
       "      <td>Ukrainian-Superleague</td>\n",
       "      <td>2019 - 2020</td>\n",
       "      <td>International</td>\n",
       "      <td>Dmitriy Lypovtsev</td>\n",
       "      <td>KHAR</td>\n",
       "      <td>5</td>\n",
       "      <td>86.3</td>\n",
       "      <td>1</td>\n",
       "      <td>13</td>\n",
       "      <td>0</td>\n",
       "      <td>...</td>\n",
       "      <td>Oct 10, 1986</td>\n",
       "      <td>6-8</td>\n",
       "      <td>203.0</td>\n",
       "      <td>220.0</td>\n",
       "      <td>100.0</td>\n",
       "      <td>Ukraine</td>\n",
       "      <td>NaN</td>\n",
       "      <td>1.38753</td>\n",
       "      <td>NaN</td>\n",
       "      <td>NaN</td>\n",
       "    </tr>\n",
       "  </tbody>\n",
       "</table>\n",
       "<p>46119 rows × 34 columns</p>\n",
       "</div>"
      ],
      "text/plain": [
       "                      League       Season           Stage  \\\n",
       "15                       NBA         None  Regular_Season   \n",
       "30                       NBA  1999 - 2000  Regular_Season   \n",
       "34                       NBA  1999 - 2000  Regular_Season   \n",
       "55                       NBA  1999 - 2000  Regular_Season   \n",
       "65                       NBA  1999 - 2000  Regular_Season   \n",
       "...                      ...          ...             ...   \n",
       "53944  Ukrainian-Superleague  2019 - 2020   International   \n",
       "53945  Ukrainian-Superleague  2019 - 2020   International   \n",
       "53946  Ukrainian-Superleague  2019 - 2020   International   \n",
       "53947  Ukrainian-Superleague  2019 - 2020   International   \n",
       "53948  Ukrainian-Superleague  2019 - 2020   International   \n",
       "\n",
       "                    Player  Team  GP     MIN  FGM   FGA  3PM  ...  \\\n",
       "15     Shareef Abdur-Rahim   VAN  82  3223.0  594  1277   29  ...   \n",
       "30           Dirk Nowitzki   DAL  82  2938.0  515  1118  116  ...   \n",
       "34       Darrell Armstrong   ORL  82  2590.0  484  1119  137  ...   \n",
       "55            David Wesley   CHA  82  2760.0  407   955   88  ...   \n",
       "65             Vlade Divac   SAC  82  2374.0  384   764    7  ...   \n",
       "...                    ...   ...  ..     ...  ...   ...  ...  ...   \n",
       "53944  Kyrylo Meshheryakov   MYK  15   127.0    7    28    2  ...   \n",
       "53945    Yaroslav Kadygrob   ODE  10    81.7    5    16    4  ...   \n",
       "53946      Ernesto Tkachuk   ODE  16   124.7    1    15    0  ...   \n",
       "53947    Andrij Shapovalov  KHAR  12    59.2    0     8    0  ...   \n",
       "53948    Dmitriy Lypovtsev  KHAR   5    86.3    1    13    0  ...   \n",
       "\n",
       "         birth_date  height  height_cm  weight  weight_kg    nationality  \\\n",
       "15     Dec 11, 1976     6-9      206.0   225.0      102.0  United States   \n",
       "30     Jun 19, 1978     7-0      213.0   245.0      111.0        Germany   \n",
       "34     Jun 22, 1968     6-0      183.0   170.0       77.0  United States   \n",
       "55     Nov 14, 1970     6-0      183.0   190.0       86.0  United States   \n",
       "65      Feb 3, 1968     7-1      216.0   260.0      118.0         Serbia   \n",
       "...             ...     ...        ...     ...        ...            ...   \n",
       "53944  Aug 17, 1995     6-6      198.0   182.0       83.0        Ukraine   \n",
       "53945  Oct 28, 1991     6-3      191.0   187.0       85.0        Ukraine   \n",
       "53946  Sep 17, 1994     6-2      188.0   200.0       91.0        Ukraine   \n",
       "53947  Nov 10, 1993     6-2      188.0   171.0       78.0        Ukraine   \n",
       "53948  Oct 10, 1986     6-8      203.0   220.0      100.0        Ukraine   \n",
       "\n",
       "                      high_school  draft_round  draft_pick  \\\n",
       "15     Joseph Wheeler High School      1.00000         3.0   \n",
       "30                            NaN      1.00000         9.0   \n",
       "34           Ashbrook High School      1.38753         NaN   \n",
       "55           Longview High School      1.38753         NaN   \n",
       "65                            NaN      1.00000        26.0   \n",
       "...                           ...          ...         ...   \n",
       "53944                         NaN      1.38753         NaN   \n",
       "53945                         NaN      1.38753         NaN   \n",
       "53946                         NaN      1.38753         NaN   \n",
       "53947                         NaN      1.38753         NaN   \n",
       "53948                         NaN      1.38753         NaN   \n",
       "\n",
       "                draft_team  \n",
       "15     Vancouver Grizzlies  \n",
       "30         Milwaukee Bucks  \n",
       "34                     NaN  \n",
       "55                     NaN  \n",
       "65      Los Angeles Lakers  \n",
       "...                    ...  \n",
       "53944                  NaN  \n",
       "53945                  NaN  \n",
       "53946                  NaN  \n",
       "53947                  NaN  \n",
       "53948                  NaN  \n",
       "\n",
       "[46119 rows x 34 columns]"
      ]
     },
     "execution_count": 40,
     "metadata": {},
     "output_type": "execute_result"
    }
   ],
   "source": [
    "pd.options.mode.chained_assignment = None\n",
    "\n",
    "df.Season[[15,100,200,300,400,500,600,700,800,900,1000]]=None;\n",
    "\n",
    "df[df.isnull().any(axis=1)]"
   ]
  },
  {
   "cell_type": "code",
   "execution_count": 29,
   "id": "44686a28-c525-4f36-aacc-243180983487",
   "metadata": {},
   "outputs": [
    {
     "data": {
      "text/plain": [
       "League             0\n",
       "Season             0\n",
       "Stage              0\n",
       "Player             0\n",
       "Team              11\n",
       "GP                 0\n",
       "MIN                0\n",
       "FGM                0\n",
       "FGA                0\n",
       "3PM                0\n",
       "3PA                0\n",
       "FTM                0\n",
       "FTA                0\n",
       "TOV                0\n",
       "PF                 0\n",
       "ORB                0\n",
       "DRB                0\n",
       "REB                0\n",
       "AST                0\n",
       "STL                0\n",
       "BLK                0\n",
       "PTS                0\n",
       "birth_year         0\n",
       "birth_month      318\n",
       "birth_date       318\n",
       "height            74\n",
       "height_cm         74\n",
       "weight          4564\n",
       "weight_kg       4564\n",
       "nationality        7\n",
       "high_school    30266\n",
       "draft_round        0\n",
       "draft_pick     43813\n",
       "draft_team     43813\n",
       "dtype: int64"
      ]
     },
     "execution_count": 29,
     "metadata": {},
     "output_type": "execute_result"
    }
   ],
   "source": [
    "strategi3 = SimpleImputer(missing_values=None, strategy=\"most_frequent\")\n",
    "\n",
    "df[\"Season\"] = strategi3.fit_transform(df[[\"Season\"]])\n",
    "\n",
    "df.isna().sum()\n",
    "     "
   ]
  },
  {
   "cell_type": "code",
   "execution_count": 30,
   "id": "57765a9e-7625-4c5a-9d1f-8083bf826b53",
   "metadata": {},
   "outputs": [
    {
     "name": "stdout",
     "output_type": "stream",
     "text": [
      "15      2019 - 2020\n",
      "100     2019 - 2020\n",
      "200     2019 - 2020\n",
      "300     2019 - 2020\n",
      "400     2019 - 2020\n",
      "500     2019 - 2020\n",
      "600     2019 - 2020\n",
      "700     2019 - 2020\n",
      "800     2019 - 2020\n",
      "900     2019 - 2020\n",
      "1000    2019 - 2020\n",
      "Name: Season, dtype: object\n"
     ]
    }
   ],
   "source": [
    "print(df.Season[[15,100,200,300,400,500,600,700,800,900,1000]])"
   ]
  },
  {
   "cell_type": "markdown",
   "id": "a0316c04-49d5-4188-a856-e9f8ce7d9093",
   "metadata": {},
   "source": [
    "## Data Cleaning dengan nilai Duplikat"
   ]
  },
  {
   "cell_type": "code",
   "execution_count": 31,
   "id": "c935f598-2918-400f-81cd-10c5f3670c64",
   "metadata": {},
   "outputs": [
    {
     "name": "stdout",
     "output_type": "stream",
     "text": [
      "Jumlah Data Duplikat : \n"
     ]
    },
    {
     "data": {
      "text/plain": [
       "0"
      ]
     },
     "execution_count": 31,
     "metadata": {},
     "output_type": "execute_result"
    }
   ],
   "source": [
    "df[df.duplicated()]\n",
    "\n",
    "print(\"Jumlah Data Duplikat : \")\n",
    "df.duplicated().sum()"
   ]
  },
  {
   "cell_type": "markdown",
   "id": "1752db2b-7839-4a14-ac99-339f9c7bc535",
   "metadata": {},
   "source": [
    "## Karena data duplikatnya 0 maka dibuatlah data duplikatnya"
   ]
  },
  {
   "cell_type": "code",
   "execution_count": 33,
   "id": "dcdd879f-82e1-4b8a-9a81-39a60d89e2cb",
   "metadata": {},
   "outputs": [
    {
     "name": "stdout",
     "output_type": "stream",
     "text": [
      "Jumlah data duplicated sekarang :\n"
     ]
    },
    {
     "data": {
      "text/plain": [
       "53949"
      ]
     },
     "execution_count": 33,
     "metadata": {},
     "output_type": "execute_result"
    }
   ],
   "source": [
    "make_duplicated = pd.concat([df]*2, ignore_index=True)\n",
    "make_duplicated.duplicated()\n",
    "\n",
    "print(\"Jumlah data duplicated sekarang :\")\n",
    "make_duplicated.duplicated().sum()"
   ]
  },
  {
   "cell_type": "code",
   "execution_count": 34,
   "id": "390e8a09-b14a-4670-9019-8da541532ebc",
   "metadata": {},
   "outputs": [
    {
     "name": "stdout",
     "output_type": "stream",
     "text": [
      "Jumlah data duplicated setelah di drop :\n"
     ]
    },
    {
     "data": {
      "text/plain": [
       "0"
      ]
     },
     "execution_count": 34,
     "metadata": {},
     "output_type": "execute_result"
    }
   ],
   "source": [
    "df.drop_duplicates(inplace=True)\n",
    "\n",
    "hasil = df.reset_index(drop=True)\n",
    "print(\"Jumlah data duplicated setelah di drop :\")\n",
    "hasil.duplicated().sum()"
   ]
  },
  {
   "cell_type": "markdown",
   "id": "a8438af6-79a1-4b97-a686-0aee0c7f018f",
   "metadata": {},
   "source": [
    "# Mengganti tipe data salah satu attribute angka"
   ]
  },
  {
   "cell_type": "markdown",
   "id": "5137cca6-b70d-4e6f-8060-11506c5c0ca8",
   "metadata": {},
   "source": [
    "* Mengganti tipe data TOV yang sebelumnya int menjadi float"
   ]
  },
  {
   "cell_type": "code",
   "execution_count": 35,
   "id": "983a62e2-5579-4a67-b809-8cd3ee8c741f",
   "metadata": {},
   "outputs": [
    {
     "name": "stdout",
     "output_type": "stream",
     "text": [
      "Tipe data TOV Sebelum di ubah :\n"
     ]
    },
    {
     "data": {
      "text/plain": [
       "League          object\n",
       "Season          object\n",
       "Stage           object\n",
       "Player          object\n",
       "Team            object\n",
       "GP               int64\n",
       "MIN            float64\n",
       "FGM              int64\n",
       "FGA              int64\n",
       "3PM              int64\n",
       "3PA              int64\n",
       "FTM              int64\n",
       "FTA              int64\n",
       "TOV              int64\n",
       "PF               int64\n",
       "ORB              int64\n",
       "DRB              int64\n",
       "REB              int64\n",
       "AST              int64\n",
       "STL              int64\n",
       "BLK              int64\n",
       "PTS              int64\n",
       "birth_year     float64\n",
       "birth_month     object\n",
       "birth_date      object\n",
       "height          object\n",
       "height_cm      float64\n",
       "weight         float64\n",
       "weight_kg      float64\n",
       "nationality     object\n",
       "high_school     object\n",
       "draft_round    float64\n",
       "draft_pick     float64\n",
       "draft_team      object\n",
       "dtype: object"
      ]
     },
     "execution_count": 35,
     "metadata": {},
     "output_type": "execute_result"
    }
   ],
   "source": [
    "print(\"Tipe data TOV Sebelum di ubah :\")\n",
    "df.dtypes"
   ]
  },
  {
   "cell_type": "code",
   "execution_count": 36,
   "id": "df3b865c-b0f8-46e5-b101-9ad0cf809614",
   "metadata": {},
   "outputs": [
    {
     "name": "stdout",
     "output_type": "stream",
     "text": [
      "Tipe data TOV sesudah di ubah :\n"
     ]
    },
    {
     "data": {
      "text/plain": [
       "League          object\n",
       "Season          object\n",
       "Stage           object\n",
       "Player          object\n",
       "Team            object\n",
       "GP               int64\n",
       "MIN            float64\n",
       "FGM              int64\n",
       "FGA              int64\n",
       "3PM              int64\n",
       "3PA              int64\n",
       "FTM              int64\n",
       "FTA              int64\n",
       "TOV            float64\n",
       "PF               int64\n",
       "ORB              int64\n",
       "DRB              int64\n",
       "REB              int64\n",
       "AST              int64\n",
       "STL              int64\n",
       "BLK              int64\n",
       "PTS              int64\n",
       "birth_year     float64\n",
       "birth_month     object\n",
       "birth_date      object\n",
       "height          object\n",
       "height_cm      float64\n",
       "weight         float64\n",
       "weight_kg      float64\n",
       "nationality     object\n",
       "high_school     object\n",
       "draft_round    float64\n",
       "draft_pick     float64\n",
       "draft_team      object\n",
       "dtype: object"
      ]
     },
     "execution_count": 36,
     "metadata": {},
     "output_type": "execute_result"
    }
   ],
   "source": [
    "df['TOV'] = df['TOV'].astype('float64')\n",
    "\n",
    "print(\"Tipe data TOV sesudah di ubah :\")\n",
    "df.dtypes"
   ]
  },
  {
   "cell_type": "markdown",
   "id": "b70e6022-878f-4657-bda4-df555c277734",
   "metadata": {},
   "source": [
    "# One-Hot Encoding"
   ]
  },
  {
   "cell_type": "code",
   "execution_count": 37,
   "id": "30e1427a-38b9-463b-8ce7-9b04262384b0",
   "metadata": {},
   "outputs": [
    {
     "name": "stderr",
     "output_type": "stream",
     "text": [
      "/Users/onnyfahrony/Auzan_127/Auzan_127/lib/python3.10/site-packages/sklearn/preprocessing/_encoders.py:975: FutureWarning: `sparse` was renamed to `sparse_output` in version 1.2 and will be removed in 1.4. `sparse_output` is ignored unless you leave `sparse` to its default value.\n",
      "  warnings.warn(\n"
     ]
    },
    {
     "data": {
      "text/html": [
       "<div>\n",
       "<style scoped>\n",
       "    .dataframe tbody tr th:only-of-type {\n",
       "        vertical-align: middle;\n",
       "    }\n",
       "\n",
       "    .dataframe tbody tr th {\n",
       "        vertical-align: top;\n",
       "    }\n",
       "\n",
       "    .dataframe thead th {\n",
       "        text-align: right;\n",
       "    }\n",
       "</style>\n",
       "<table border=\"1\" class=\"dataframe\">\n",
       "  <thead>\n",
       "    <tr style=\"text-align: right;\">\n",
       "      <th></th>\n",
       "      <th>League</th>\n",
       "      <th>Season</th>\n",
       "      <th>Stage</th>\n",
       "      <th>Player</th>\n",
       "      <th>Team</th>\n",
       "      <th>GP</th>\n",
       "      <th>MIN</th>\n",
       "      <th>FGM</th>\n",
       "      <th>FGA</th>\n",
       "      <th>3PM</th>\n",
       "      <th>...</th>\n",
       "      <th>14572</th>\n",
       "      <th>14573</th>\n",
       "      <th>14574</th>\n",
       "      <th>14575</th>\n",
       "      <th>14576</th>\n",
       "      <th>14577</th>\n",
       "      <th>14578</th>\n",
       "      <th>14579</th>\n",
       "      <th>14580</th>\n",
       "      <th>14581</th>\n",
       "    </tr>\n",
       "  </thead>\n",
       "  <tbody>\n",
       "    <tr>\n",
       "      <th>0</th>\n",
       "      <td>NBA</td>\n",
       "      <td>1999 - 2000</td>\n",
       "      <td>Regular_Season</td>\n",
       "      <td>Shaquille O'Neal</td>\n",
       "      <td>LAL</td>\n",
       "      <td>79</td>\n",
       "      <td>3163.0</td>\n",
       "      <td>956</td>\n",
       "      <td>1665</td>\n",
       "      <td>0</td>\n",
       "      <td>...</td>\n",
       "      <td>0.0</td>\n",
       "      <td>0.0</td>\n",
       "      <td>0.0</td>\n",
       "      <td>0.0</td>\n",
       "      <td>0.0</td>\n",
       "      <td>0.0</td>\n",
       "      <td>0.0</td>\n",
       "      <td>0.0</td>\n",
       "      <td>0.0</td>\n",
       "      <td>0.0</td>\n",
       "    </tr>\n",
       "    <tr>\n",
       "      <th>1</th>\n",
       "      <td>NBA</td>\n",
       "      <td>1999 - 2000</td>\n",
       "      <td>Regular_Season</td>\n",
       "      <td>Vince Carter</td>\n",
       "      <td>TOR</td>\n",
       "      <td>82</td>\n",
       "      <td>3126.0</td>\n",
       "      <td>788</td>\n",
       "      <td>1696</td>\n",
       "      <td>95</td>\n",
       "      <td>...</td>\n",
       "      <td>0.0</td>\n",
       "      <td>0.0</td>\n",
       "      <td>0.0</td>\n",
       "      <td>0.0</td>\n",
       "      <td>0.0</td>\n",
       "      <td>0.0</td>\n",
       "      <td>0.0</td>\n",
       "      <td>0.0</td>\n",
       "      <td>0.0</td>\n",
       "      <td>0.0</td>\n",
       "    </tr>\n",
       "    <tr>\n",
       "      <th>2</th>\n",
       "      <td>NBA</td>\n",
       "      <td>1999 - 2000</td>\n",
       "      <td>Regular_Season</td>\n",
       "      <td>Karl Malone</td>\n",
       "      <td>UTA</td>\n",
       "      <td>82</td>\n",
       "      <td>2947.0</td>\n",
       "      <td>752</td>\n",
       "      <td>1476</td>\n",
       "      <td>2</td>\n",
       "      <td>...</td>\n",
       "      <td>0.0</td>\n",
       "      <td>0.0</td>\n",
       "      <td>0.0</td>\n",
       "      <td>0.0</td>\n",
       "      <td>0.0</td>\n",
       "      <td>0.0</td>\n",
       "      <td>0.0</td>\n",
       "      <td>0.0</td>\n",
       "      <td>0.0</td>\n",
       "      <td>0.0</td>\n",
       "    </tr>\n",
       "    <tr>\n",
       "      <th>3</th>\n",
       "      <td>NBA</td>\n",
       "      <td>1999 - 2000</td>\n",
       "      <td>Regular_Season</td>\n",
       "      <td>Allen Iverson</td>\n",
       "      <td>PHI</td>\n",
       "      <td>70</td>\n",
       "      <td>2853.0</td>\n",
       "      <td>729</td>\n",
       "      <td>1733</td>\n",
       "      <td>89</td>\n",
       "      <td>...</td>\n",
       "      <td>0.0</td>\n",
       "      <td>0.0</td>\n",
       "      <td>0.0</td>\n",
       "      <td>0.0</td>\n",
       "      <td>0.0</td>\n",
       "      <td>0.0</td>\n",
       "      <td>0.0</td>\n",
       "      <td>0.0</td>\n",
       "      <td>0.0</td>\n",
       "      <td>0.0</td>\n",
       "    </tr>\n",
       "    <tr>\n",
       "      <th>4</th>\n",
       "      <td>NBA</td>\n",
       "      <td>1999 - 2000</td>\n",
       "      <td>Regular_Season</td>\n",
       "      <td>Gary Payton</td>\n",
       "      <td>SEA</td>\n",
       "      <td>82</td>\n",
       "      <td>3425.0</td>\n",
       "      <td>747</td>\n",
       "      <td>1666</td>\n",
       "      <td>177</td>\n",
       "      <td>...</td>\n",
       "      <td>0.0</td>\n",
       "      <td>0.0</td>\n",
       "      <td>0.0</td>\n",
       "      <td>0.0</td>\n",
       "      <td>0.0</td>\n",
       "      <td>0.0</td>\n",
       "      <td>0.0</td>\n",
       "      <td>0.0</td>\n",
       "      <td>0.0</td>\n",
       "      <td>0.0</td>\n",
       "    </tr>\n",
       "  </tbody>\n",
       "</table>\n",
       "<p>5 rows × 14616 columns</p>\n",
       "</div>"
      ],
      "text/plain": [
       "  League       Season           Stage            Player Team  GP     MIN  FGM  \\\n",
       "0    NBA  1999 - 2000  Regular_Season  Shaquille O'Neal  LAL  79  3163.0  956   \n",
       "1    NBA  1999 - 2000  Regular_Season      Vince Carter  TOR  82  3126.0  788   \n",
       "2    NBA  1999 - 2000  Regular_Season       Karl Malone  UTA  82  2947.0  752   \n",
       "3    NBA  1999 - 2000  Regular_Season     Allen Iverson  PHI  70  2853.0  729   \n",
       "4    NBA  1999 - 2000  Regular_Season       Gary Payton  SEA  82  3425.0  747   \n",
       "\n",
       "    FGA  3PM  ...  14572  14573  14574  14575  14576  14577  14578  14579  \\\n",
       "0  1665    0  ...    0.0    0.0    0.0    0.0    0.0    0.0    0.0    0.0   \n",
       "1  1696   95  ...    0.0    0.0    0.0    0.0    0.0    0.0    0.0    0.0   \n",
       "2  1476    2  ...    0.0    0.0    0.0    0.0    0.0    0.0    0.0    0.0   \n",
       "3  1733   89  ...    0.0    0.0    0.0    0.0    0.0    0.0    0.0    0.0   \n",
       "4  1666  177  ...    0.0    0.0    0.0    0.0    0.0    0.0    0.0    0.0   \n",
       "\n",
       "   14580  14581  \n",
       "0    0.0    0.0  \n",
       "1    0.0    0.0  \n",
       "2    0.0    0.0  \n",
       "3    0.0    0.0  \n",
       "4    0.0    0.0  \n",
       "\n",
       "[5 rows x 14616 columns]"
      ]
     },
     "execution_count": 37,
     "metadata": {},
     "output_type": "execute_result"
    }
   ],
   "source": [
    "one_encoder = OneHotEncoder(sparse=False)\n",
    "\n",
    "onehot = one_encoder.fit_transform(df[[\"Player\"]])\n",
    "df_onehot = pd.DataFrame(onehot)\n",
    "df_encoder = df.join(df_onehot)\n",
    "df_encoder.head()"
   ]
  },
  {
   "cell_type": "code",
   "execution_count": null,
   "id": "f2e1ed40-a7b8-4121-8a72-0bee3c542589",
   "metadata": {},
   "outputs": [],
   "source": []
  }
 ],
 "metadata": {
  "kernelspec": {
   "display_name": "Auzan_127",
   "language": "python",
   "name": "auzan_127"
  },
  "language_info": {
   "codemirror_mode": {
    "name": "ipython",
    "version": 3
   },
   "file_extension": ".py",
   "mimetype": "text/x-python",
   "name": "python",
   "nbconvert_exporter": "python",
   "pygments_lexer": "ipython3",
   "version": "3.10.7"
  }
 },
 "nbformat": 4,
 "nbformat_minor": 5
}
