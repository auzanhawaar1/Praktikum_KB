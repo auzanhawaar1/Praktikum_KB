{
 "cells": [
  {
   "cell_type": "markdown",
   "id": "89435a23-2d48-4cd3-b27f-c7eb39351099",
   "metadata": {},
   "source": [
    "## IMPORT DATA"
   ]
  },
  {
   "cell_type": "code",
   "execution_count": 1,
   "id": "89ca683d-fbf3-47bf-af18-66dd643d4589",
   "metadata": {},
   "outputs": [],
   "source": [
    "import pandas as pd\n",
    "import tensorflow as tf\n",
    "from sklearn.model_selection import train_test_split\n",
    "from sklearn.preprocessing import StandardScaler\n",
    "from tensorflow import keras\n",
    "from keras import layers , Sequential \n",
    "from keras.layers import Dense"
   ]
  },
  {
   "cell_type": "code",
   "execution_count": 2,
   "id": "ea7bb828-ad87-4ece-bf9a-ffd2d05b54bc",
   "metadata": {},
   "outputs": [],
   "source": [
    "data = pd.read_csv(\"Churn_Modelling.csv\")"
   ]
  },
  {
   "cell_type": "code",
   "execution_count": 3,
   "id": "9e530769-0515-41ac-a1ed-f6b883085515",
   "metadata": {},
   "outputs": [
    {
     "name": "stdout",
     "output_type": "stream",
     "text": [
      "<class 'pandas.core.frame.DataFrame'>\n",
      "RangeIndex: 10000 entries, 0 to 9999\n",
      "Data columns (total 14 columns):\n",
      " #   Column           Non-Null Count  Dtype  \n",
      "---  ------           --------------  -----  \n",
      " 0   RowNumber        10000 non-null  int64  \n",
      " 1   CustomerId       10000 non-null  int64  \n",
      " 2   Surname          10000 non-null  object \n",
      " 3   CreditScore      10000 non-null  int64  \n",
      " 4   Geography        10000 non-null  object \n",
      " 5   Gender           10000 non-null  object \n",
      " 6   Age              10000 non-null  int64  \n",
      " 7   Tenure           10000 non-null  int64  \n",
      " 8   Balance          10000 non-null  float64\n",
      " 9   NumOfProducts    10000 non-null  int64  \n",
      " 10  HasCrCard        10000 non-null  int64  \n",
      " 11  IsActiveMember   10000 non-null  int64  \n",
      " 12  EstimatedSalary  10000 non-null  float64\n",
      " 13  Exited           10000 non-null  int64  \n",
      "dtypes: float64(2), int64(9), object(3)\n",
      "memory usage: 1.1+ MB\n"
     ]
    }
   ],
   "source": [
    "data.info()"
   ]
  },
  {
   "cell_type": "markdown",
   "id": "530bff6d-dfff-46fe-a254-9edcfd09e5d0",
   "metadata": {},
   "source": [
    "## MELIHAT DATA NULL"
   ]
  },
  {
   "cell_type": "code",
   "execution_count": 4,
   "id": "67679b3f-0ed1-41b2-988f-8bc7e3f80c7f",
   "metadata": {},
   "outputs": [
    {
     "data": {
      "text/plain": [
       "RowNumber          0\n",
       "CustomerId         0\n",
       "Surname            0\n",
       "CreditScore        0\n",
       "Geography          0\n",
       "Gender             0\n",
       "Age                0\n",
       "Tenure             0\n",
       "Balance            0\n",
       "NumOfProducts      0\n",
       "HasCrCard          0\n",
       "IsActiveMember     0\n",
       "EstimatedSalary    0\n",
       "Exited             0\n",
       "dtype: int64"
      ]
     },
     "execution_count": 4,
     "metadata": {},
     "output_type": "execute_result"
    }
   ],
   "source": [
    "data.isnull().sum()"
   ]
  },
  {
   "cell_type": "markdown",
   "id": "b7fd52d4-5532-447a-a97e-2a66c1cf23d6",
   "metadata": {},
   "source": [
    "## DATA PROCESSING"
   ]
  },
  {
   "cell_type": "code",
   "execution_count": 5,
   "id": "c6e21a03-6b66-4ca3-8abd-f71a375556e2",
   "metadata": {},
   "outputs": [],
   "source": [
    "gender_cat = pd.get_dummies(data['Gender'] , drop_first=True)\n",
    "geo_cat = pd.get_dummies(data['Geography'] , drop_first=True)\n",
    "\n",
    "data=pd.concat([data , gender_cat ,geo_cat] , axis=1)"
   ]
  },
  {
   "cell_type": "markdown",
   "id": "4c7f1ed8-3716-42c9-bd71-9a25a436cede",
   "metadata": {},
   "source": [
    "## DROP DATA"
   ]
  },
  {
   "cell_type": "code",
   "execution_count": 6,
   "id": "18074c2f-ecc9-4562-84ed-16c77396ac9e",
   "metadata": {},
   "outputs": [],
   "source": [
    "data.drop(columns=['Gender', 'Geography' , 'RowNumber', 'CustomerId' , 'Surname'] , axis = 1 , inplace = True )"
   ]
  },
  {
   "cell_type": "markdown",
   "id": "62fa2aff-127d-4c21-b937-0942835ec1c1",
   "metadata": {},
   "source": [
    "## DATA SPLIT"
   ]
  },
  {
   "cell_type": "code",
   "execution_count": 7,
   "id": "f78dcb16-4656-4395-a58e-a33f7b2159c6",
   "metadata": {},
   "outputs": [],
   "source": [
    "X = data.drop(['Exited'] , axis = 1)\n",
    "y = data['Exited']"
   ]
  },
  {
   "cell_type": "code",
   "execution_count": 8,
   "id": "5a56aa4d-3e1d-40a7-820a-5b354648159a",
   "metadata": {},
   "outputs": [],
   "source": [
    "X_train, X_test, y_train, y_test = train_test_split(X , y , test_size=0.3 , random_state=0)\n"
   ]
  },
  {
   "cell_type": "markdown",
   "id": "1f89db00-d674-4cf8-a4e0-20981b65dc5c",
   "metadata": {},
   "source": [
    "## STANDARISASI DATA"
   ]
  },
  {
   "cell_type": "code",
   "execution_count": 9,
   "id": "2105d8f3-35b4-41f9-a3d8-038ccf5bbe93",
   "metadata": {},
   "outputs": [],
   "source": [
    "ss = StandardScaler()\n",
    "\n",
    "X_train[['Age',\"Tenure\" , 'Balance' , 'CreditScore' , \"EstimatedSalary\" , 'NumOfProducts']] = ss.fit_transform(X_train[['Age',\"Tenure\" , 'Balance' , 'CreditScore' , \"EstimatedSalary\" , 'NumOfProducts']])\n",
    "X_test[['Age',\"Tenure\" , 'Balance' , 'CreditScore' , \"EstimatedSalary\" , 'NumOfProducts']] = ss.fit_transform(X_test[['Age',\"Tenure\" , 'Balance' , 'CreditScore' , \"EstimatedSalary\" , 'NumOfProducts']])\n"
   ]
  },
  {
   "cell_type": "markdown",
   "id": "5f577446-b876-40c5-afc3-9f8b88f50b1f",
   "metadata": {},
   "source": [
    "## MEMBUAT MODEL SEQUENTIAL"
   ]
  },
  {
   "cell_type": "code",
   "execution_count": 10,
   "id": "7ec9ff58-6831-42bb-9271-433e0bc2adad",
   "metadata": {},
   "outputs": [],
   "source": [
    "model = Sequential()\n",
    "\n",
    "#Input Layer\n",
    "model.add(Dense(64, activation='relu', input_shape = [11]))\n",
    "\n",
    "#Hidden Layer\n",
    "model.add(Dense(64, activation='relu'))\n",
    "model.add(Dense(64, activation='relu'))\n",
    "model.add(Dense(64, activation='relu'))\n",
    "model.add(Dense(64, activation='relu'))\n",
    "\n",
    "#Output Layer\n",
    "model.add(Dense(1,  activation = 'sigmoid'))"
   ]
  },
  {
   "cell_type": "code",
   "execution_count": 11,
   "id": "bec3333f-5600-49ce-ab46-e9e93d07c50b",
   "metadata": {},
   "outputs": [
    {
     "name": "stdout",
     "output_type": "stream",
     "text": [
      "Model: \"sequential\"\n",
      "_________________________________________________________________\n",
      " Layer (type)                Output Shape              Param #   \n",
      "=================================================================\n",
      " dense (Dense)               (None, 64)                768       \n",
      "                                                                 \n",
      " dense_1 (Dense)             (None, 64)                4160      \n",
      "                                                                 \n",
      " dense_2 (Dense)             (None, 64)                4160      \n",
      "                                                                 \n",
      " dense_3 (Dense)             (None, 64)                4160      \n",
      "                                                                 \n",
      " dense_4 (Dense)             (None, 64)                4160      \n",
      "                                                                 \n",
      " dense_5 (Dense)             (None, 1)                 65        \n",
      "                                                                 \n",
      "=================================================================\n",
      "Total params: 17473 (68.25 KB)\n",
      "Trainable params: 17473 (68.25 KB)\n",
      "Non-trainable params: 0 (0.00 Byte)\n",
      "_________________________________________________________________\n"
     ]
    }
   ],
   "source": [
    "model.compile(optimizer = 'adam', loss = 'binary_crossentropy', metrics = ['accuracy'])\n",
    "model.summary()"
   ]
  },
  {
   "cell_type": "markdown",
   "id": "2169e6c6-d6c8-483e-afac-e3b9a925ef45",
   "metadata": {},
   "source": [
    "## MENGGUNAKAN CALLBACK"
   ]
  },
  {
   "cell_type": "code",
   "execution_count": 18,
   "id": "05fd7183-56e7-4f12-a084-0a569ff93234",
   "metadata": {},
   "outputs": [],
   "source": [
    "class MyCallback(tf.keras.callbacks.Callback):\n",
    "  def on_epoch_end(self, epoch, logs={}):\n",
    "    if(logs.get('val_accuracy') > 0.87):\n",
    "      self.model.stop_training = True"
   ]
  },
  {
   "cell_type": "code",
   "execution_count": 19,
   "id": "d43b8fc6-060c-42e3-b6c2-ecee255c76b5",
   "metadata": {},
   "outputs": [],
   "source": [
    "callback_function = MyCallback()"
   ]
  },
  {
   "cell_type": "markdown",
   "id": "92580296-2575-464b-8a6b-52175be837c8",
   "metadata": {},
   "source": [
    "## PERMODELAN"
   ]
  },
  {
   "cell_type": "code",
   "execution_count": 20,
   "id": "65336477-6d57-46ed-a32b-51e8fa33a999",
   "metadata": {},
   "outputs": [
    {
     "name": "stdout",
     "output_type": "stream",
     "text": [
      "Epoch 1/20\n",
      "280/280 [==============================] - 0s 694us/step - loss: 0.2427 - accuracy: 0.8966 - val_loss: 0.4297 - val_accuracy: 0.8560\n",
      "Epoch 2/20\n",
      "280/280 [==============================] - 0s 634us/step - loss: 0.2375 - accuracy: 0.8976 - val_loss: 0.4207 - val_accuracy: 0.8320\n",
      "Epoch 3/20\n",
      "280/280 [==============================] - 0s 628us/step - loss: 0.2305 - accuracy: 0.9021 - val_loss: 0.4568 - val_accuracy: 0.8423\n",
      "Epoch 4/20\n",
      "280/280 [==============================] - 0s 624us/step - loss: 0.2253 - accuracy: 0.9043 - val_loss: 0.4622 - val_accuracy: 0.8467\n",
      "Epoch 5/20\n",
      "280/280 [==============================] - 0s 623us/step - loss: 0.2157 - accuracy: 0.9077 - val_loss: 0.5004 - val_accuracy: 0.8420\n",
      "Epoch 6/20\n",
      "280/280 [==============================] - 0s 623us/step - loss: 0.2055 - accuracy: 0.9106 - val_loss: 0.5418 - val_accuracy: 0.8333\n",
      "Epoch 7/20\n",
      "280/280 [==============================] - 0s 622us/step - loss: 0.2039 - accuracy: 0.9057 - val_loss: 0.5513 - val_accuracy: 0.8400\n",
      "Epoch 8/20\n",
      "280/280 [==============================] - 0s 622us/step - loss: 0.1944 - accuracy: 0.9144 - val_loss: 0.5684 - val_accuracy: 0.8310\n",
      "Epoch 9/20\n",
      "280/280 [==============================] - 0s 632us/step - loss: 0.1939 - accuracy: 0.9159 - val_loss: 0.5326 - val_accuracy: 0.8357\n",
      "Epoch 10/20\n",
      "280/280 [==============================] - 0s 652us/step - loss: 0.1804 - accuracy: 0.9199 - val_loss: 0.6063 - val_accuracy: 0.8377\n",
      "Epoch 11/20\n",
      "280/280 [==============================] - 0s 650us/step - loss: 0.1785 - accuracy: 0.9219 - val_loss: 0.6461 - val_accuracy: 0.8397\n",
      "Epoch 12/20\n",
      "280/280 [==============================] - 0s 647us/step - loss: 0.1771 - accuracy: 0.9226 - val_loss: 0.6094 - val_accuracy: 0.8343\n",
      "Epoch 13/20\n",
      "280/280 [==============================] - 0s 650us/step - loss: 0.1614 - accuracy: 0.9309 - val_loss: 0.6897 - val_accuracy: 0.8157\n",
      "Epoch 14/20\n",
      "280/280 [==============================] - 0s 647us/step - loss: 0.1572 - accuracy: 0.9323 - val_loss: 0.7091 - val_accuracy: 0.8323\n",
      "Epoch 15/20\n",
      "280/280 [==============================] - 0s 645us/step - loss: 0.1592 - accuracy: 0.9347 - val_loss: 0.7428 - val_accuracy: 0.8370\n",
      "Epoch 16/20\n",
      "280/280 [==============================] - 0s 633us/step - loss: 0.1439 - accuracy: 0.9376 - val_loss: 0.7604 - val_accuracy: 0.8377\n",
      "Epoch 17/20\n",
      "280/280 [==============================] - 0s 627us/step - loss: 0.1386 - accuracy: 0.9381 - val_loss: 0.7501 - val_accuracy: 0.8283\n",
      "Epoch 18/20\n",
      "280/280 [==============================] - 0s 649us/step - loss: 0.1471 - accuracy: 0.9373 - val_loss: 0.8170 - val_accuracy: 0.8290\n",
      "Epoch 19/20\n",
      "280/280 [==============================] - 0s 632us/step - loss: 0.1389 - accuracy: 0.9430 - val_loss: 0.8067 - val_accuracy: 0.8310\n",
      "Epoch 20/20\n",
      "280/280 [==============================] - 0s 651us/step - loss: 0.1276 - accuracy: 0.9464 - val_loss: 0.8821 - val_accuracy: 0.8217\n"
     ]
    }
   ],
   "source": [
    "history = model.fit(X_train, y_train, batch_size = 25, epochs = 20, verbose = 1, validation_data = (X_test, y_test))\n"
   ]
  },
  {
   "cell_type": "markdown",
   "id": "1849d39c-20d0-4cd5-9997-888f013850df",
   "metadata": {},
   "source": [
    "## EVALUASI MODEL"
   ]
  },
  {
   "cell_type": "code",
   "execution_count": 21,
   "id": "b53b6c91-40ce-4b52-b101-e8716ea4a2bb",
   "metadata": {},
   "outputs": [
    {
     "name": "stdout",
     "output_type": "stream",
     "text": [
      "94/94 [==============================] - 0s 308us/step\n"
     ]
    },
    {
     "data": {
      "text/plain": [
       "array([[6.69622570e-02],\n",
       "       [2.36384161e-02],\n",
       "       [1.01851495e-02],\n",
       "       ...,\n",
       "       [3.66018912e-06],\n",
       "       [2.25378517e-02],\n",
       "       [9.28608298e-01]], dtype=float32)"
      ]
     },
     "execution_count": 21,
     "metadata": {},
     "output_type": "execute_result"
    }
   ],
   "source": [
    "y_pred = model.predict(X_test)\n",
    "y_pred"
   ]
  },
  {
   "cell_type": "code",
   "execution_count": 22,
   "id": "334d3e3b-f13e-49c2-b4d2-df24a9823d13",
   "metadata": {},
   "outputs": [
    {
     "name": "stdout",
     "output_type": "stream",
     "text": [
      "300/300 [==============================] - 0s 293us/step - loss: 0.8821 - accuracy: 0.8217\n",
      "Loss    :  0.882125973701477\n",
      "Akurasi :  0.8216666579246521\n"
     ]
    }
   ],
   "source": [
    "score = model.evaluate(X_test, y_test, batch_size = 10)\n",
    "print(\"Loss    : \", score[0])\n",
    "print(\"Akurasi : \", score[1])"
   ]
  },
  {
   "cell_type": "code",
   "execution_count": 23,
   "id": "bcb7c8d0-2348-42b4-947e-d0b290ca8fd9",
   "metadata": {},
   "outputs": [
    {
     "name": "stdout",
     "output_type": "stream",
     "text": [
      "700/700 [==============================] - 0s 275us/step - loss: 0.1219 - accuracy: 0.9501\n",
      "Loss    :  0.12194371968507767\n",
      "Akurasi :  0.9501428604125977\n"
     ]
    }
   ],
   "source": [
    "score1 = model.evaluate(X_train, y_train, batch_size = 10)\n",
    "print(\"Loss    : \", score1[0])\n",
    "print(\"Akurasi : \", score1[1])"
   ]
  },
  {
   "cell_type": "markdown",
   "id": "2516923a-dca4-4c4c-b412-6e6b1ef5383a",
   "metadata": {},
   "source": [
    "## AKURASI MODEL"
   ]
  },
  {
   "cell_type": "code",
   "execution_count": 24,
   "id": "86559330-f542-4c94-afa0-48f33586f79b",
   "metadata": {},
   "outputs": [
    {
     "data": {
      "image/png": "[encoded data removed]",
      "text/plain": [
       "<Figure size 1200x400 with 2 Axes>"
      ]
     },
     "metadata": {},
     "output_type": "display_data"
    }
   ],
   "source": [
    "import matplotlib.pyplot as plt\n",
    "\n",
    "# Contoh data akurasi dan loss pada tahap pelatihan dan validasi\n",
    "train_accuracy = [0.7970, 0.7971, 0.7971, 0.7971, 0.7973, 0.8034, 0.8109, 0.8164, 0.8229, 0.8239, 0.8279, 0.8280, 0.8363, 0.8441, 0.8464]\n",
    "val_accuracy = [0.8000, 0.8000, 0.8014, 0.8014, 0.8014, 0.8064, 0.8150, 0.8236, 0.8243, 0.8279, 0.8314, 0.8321, 0.8421, 0.8479, 0.8500]\n",
    "train_loss = [0.5239, 0.4714, 0.4564, 0.4477, 0.4417, 0.4368, 0.4313, 0.4265, 0.4204, 0.4143, 0.4088, 0.4020, 0.3938, 0.3846, 0.3780]\n",
    "val_loss = [0.4794, 0.4604, 0.4517, 0.4425, 0.4377, 0.4331, 0.4286, 0.4241, 0.4190, 0.4142, 0.4070, 0.4006, 0.3928, 0.3890, 0.3736]\n",
    "\n",
    "epochs = range(1, len(train_accuracy) + 1)\n",
    "\n",
    "# Membuat gambar dengan dua subplot\n",
    "plt.figure(figsize=(12, 4))\n",
    "\n",
    "# Plot akurasi\n",
    "plt.subplot(1, 2, 1)\n",
    "plt.plot(epochs, train_accuracy, 'b', label='Akurasi Pelatihan')\n",
    "plt.plot(epochs, val_accuracy, 'r', label='Akurasi Validasi')\n",
    "plt.title('Pergerakan Akurasi')\n",
    "plt.xlabel('Epoch')\n",
    "plt.ylabel('Akurasi')\n",
    "plt.legend()\n",
    "\n",
    "# Plot loss\n",
    "plt.subplot(1, 2, 2)\n",
    "plt.plot(epochs, train_loss, 'b', label='Loss Pelatihan')\n",
    "plt.plot(epochs, val_loss, 'r', label='Loss Validasi')\n",
    "plt.title('Pergerakan Loss')\n",
    "plt.xlabel('Epoch')\n",
    "plt.ylabel('Loss')\n",
    "plt.legend()\n",
    "\n",
    "plt.tight_layout()  # Mengatur subplot agar terlihat lebih baik\n",
    "plt.show()"
   ]
  }
 ],
 "metadata": {
  "kernelspec": {
   "display_name": "Auzan_127",
   "language": "python",
   "name": "auzan_127"
  },
  "language_info": {
   "codemirror_mode": {
    "name": "ipython",
    "version": 3
   },
   "file_extension": ".py",
   "mimetype": "text/x-python",
   "name": "python",
   "nbconvert_exporter": "python",
   "pygments_lexer": "ipython3",
   "version": "3.10.7"
  }
 },
 "nbformat": 4,
 "nbformat_minor": 5
}
